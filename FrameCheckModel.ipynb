{
 "cells": [
  {
   "cell_type": "code",
   "execution_count": null,
   "id": "a3ba3f75",
   "metadata": {},
   "outputs": [],
   "source": [
    "import cv2\n",
    "import os\n",
    "import urllib.request\n",
    "import pandas as pd\n",
    "import requests"
   ]
  },
  {
   "cell_type": "markdown",
   "id": "cb6e94a7",
   "metadata": {},
   "source": [
    "### df = pd.read_excel(\"파일이름\")"
   ]
  },
  {
   "cell_type": "code",
   "execution_count": null,
   "id": "ca1374d9",
   "metadata": {},
   "outputs": [],
   "source": [
    "df = pd.read_excel(\"crawl_video_health.xlsx\", header= None)"
   ]
  },
  {
   "cell_type": "code",
   "execution_count": null,
   "id": "da89f3be",
   "metadata": {},
   "outputs": [],
   "source": [
    "# videoLinkArray를 생성\n",
    "videoLink = df[2].tolist()\n",
    "title = df[1].tolist()\n",
    "# df[2]가 영상 링크를 나타내고 있음 <- 데이터에 따라 다르기에 항상 check를 진행하는 것을 권장함"
   ]
  },
  {
   "cell_type": "code",
   "execution_count": null,
   "id": "4cd63b37",
   "metadata": {},
   "outputs": [],
   "source": [
    "# FPS,frame Array initialized\n",
    "fpsArray = []\n",
    "frameArray = []\n",
    "videoCount = len(videoLink)"
   ]
  },
  {
   "cell_type": "code",
   "execution_count": null,
   "id": "d22d199e",
   "metadata": {},
   "outputs": [],
   "source": [
    " # 영상 다운로드 함수 생성\n",
    "def download(Url, saveName):\n",
    "    if os.path.isfile(saveName):\n",
    "        return\n",
    "    else:\n",
    "        r = requests.get(Url)\n",
    "        open(saveName, \"wb\").write(r.content)"
   ]
  },
  {
   "cell_type": "code",
   "execution_count": null,
   "id": "4dc8d062",
   "metadata": {},
   "outputs": [],
   "source": [
    "count = 0\n",
    "for i in videoLink:\n",
    "    url = i\n",
    "    download(Url = url, saveName = \"CB\" + \"{}\".format(count).zfill(len(str(videoCount))) + \".mp4\")\n",
    "    count += 1"
   ]
  },
  {
   "cell_type": "code",
   "execution_count": null,
   "id": "3d637c3c",
   "metadata": {},
   "outputs": [],
   "source": [
    "for k in range(videoCount):\n",
    "    cap = cv2.VideoCapture('CB' + '{}'.format(k).zfill(len(str(videoCount))) + '.mp4')\n",
    "        \n",
    "    fps = cap.get(cv2.CAP_PROP_FPS)\n",
    "    fCount = cap.get(cv2.CAP_PROP_FRAME_COUNT)\n",
    "    fpsArray.append(fps)\n",
    "    frameArray.append(fCount)"
   ]
  },
  {
   "cell_type": "markdown",
   "id": "c9f04912",
   "metadata": {},
   "source": [
    "### Create DataFrame\n",
    "#### Title: 타이틀\n",
    "#### FPS: 초당 영상 프레임\n",
    "#### VideoLink: 비디오 링크\n",
    "#### Category: 비디오 주제\n",
    "#### StartFrame: 영상 시작 프레임\n",
    "#### EndFrame: 영상 종료 프레임\n",
    "#### Description: 영상 설명\n",
    "#### Keyword: 키워드"
   ]
  },
  {
   "cell_type": "code",
   "execution_count": null,
   "id": "e10d5c76",
   "metadata": {},
   "outputs": [],
   "source": [
    "# excel파일로 저장하기 전 pd.dataframe로 변경\n",
    "# 전처리(broken_video_check)진행\n",
    "dataframe = pd.DataFrame(\n",
    "{\n",
    "    'Title' : title,\n",
    "    'VideoLink': videoLink,\n",
    "    'Category': [\"health\"] * videoLength,\n",
    "    'FPS' : fpsArray,\n",
    "    'StartFrame' : [0] * videoLength,\n",
    "    'EndFrame'  : frameArray\n",
    "})"
   ]
  },
  {
   "cell_type": "code",
   "execution_count": null,
   "id": "7053a89e",
   "metadata": {},
   "outputs": [],
   "source": [
    "# 영상 다운로드 과정에서 broken된 것인지 링크자체가 broken인지 확인이 필요함\n",
    "# 현재 엑셀파일 속 링크들은 후자의 경우임\n",
    "# broken된 영상들을 추출하여 제거\n",
    "print('변경전 : {}'.format(len(dataframe)))\n",
    "dataframe = dataframe[dataframe.FPS != 0]\n",
    "print('변경후 : {}'.format(len(dataframe)))"
   ]
  },
  {
   "cell_type": "code",
   "execution_count": null,
   "id": "67de3cb1",
   "metadata": {},
   "outputs": [],
   "source": [
    "# to_excel()을 이용하여 excel파일로 변경\n",
    "# 현재 작업중인 디렉터리로 저장\n",
    "# 인덱스 없이 저장을 진행함 -> broken video에 대한 row를 제거하였기에 인덱스가 존재함\n",
    "# ex) 1 -> 2 -> 4 -> 5\n",
    "# 향후 순차적인 작업을 진행할 시 문제가 발생할 가능성 존재하여서 제외함\n",
    "dataframe.to_excel(\"tagging.xlsx\", index=False)"
   ]
  },
  {
   "cell_type": "code",
   "execution_count": null,
   "id": "d1053ad2",
   "metadata": {},
   "outputs": [],
   "source": []
  }
 ],
 "metadata": {
  "kernelspec": {
   "display_name": "Tagging_system",
   "language": "python",
   "name": "tagging_system"
  },
  "language_info": {
   "codemirror_mode": {
    "name": "ipython",
    "version": 3
   },
   "file_extension": ".py",
   "mimetype": "text/x-python",
   "name": "python",
   "nbconvert_exporter": "python",
   "pygments_lexer": "ipython3",
   "version": "3.9.16"
  }
 },
 "nbformat": 4,
 "nbformat_minor": 5
}